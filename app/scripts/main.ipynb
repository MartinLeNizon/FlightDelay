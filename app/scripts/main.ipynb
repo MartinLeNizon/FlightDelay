{
 "cells": [
  {
   "cell_type": "code",
   "execution_count": 2,
   "metadata": {},
   "outputs": [
    {
     "name": "stdout",
     "output_type": "stream",
     "text": [
      "c:\\Users\\nizon\\AppData\\Local\\Programs\\Python\\Python312\\python.exe\n"
     ]
    }
   ],
   "source": [
    "!where python"
   ]
  },
  {
   "cell_type": "markdown",
   "metadata": {},
   "source": [
    "# Ingestion"
   ]
  },
  {
   "cell_type": "code",
   "execution_count": null,
   "metadata": {},
   "outputs": [
    {
     "name": "stdout",
     "output_type": "stream",
     "text": [
      "Dataset URL: https://www.kaggle.com/datasets/patrickzel/flight-delay-and-cancellation-dataset-2019-2023"
     ]
    },
    {
     "name": "stderr",
     "output_type": "stream",
     "text": [
      "\n",
      "  0%|          | 0.00/140M [00:00<?, ?B/s]\n",
      "  1%|          | 1.00M/140M [00:01<03:00, 805kB/s]\n",
      "  1%|▏         | 2.00M/140M [00:01<01:58, 1.22MB/s]\n",
      "  2%|▏         | 3.00M/140M [00:02<01:28, 1.62MB/s]\n",
      "  3%|▎         | 4.00M/140M [00:02<01:20, 1.76MB/s]\n",
      "  4%|▎         | 5.00M/140M [00:03<01:13, 1.92MB/s]\n",
      "  4%|▍         | 6.00M/140M [00:03<01:11, 1.96MB/s]\n",
      "  5%|▌         | 7.00M/140M [00:04<01:03, 2.19MB/s]\n",
      "  6%|▌         | 8.00M/140M [00:04<01:01, 2.25MB/s]\n",
      "  6%|▋         | 9.00M/140M [00:04<00:54, 2.51MB/s]\n",
      "  7%|▋         | 10.0M/140M [00:05<00:58, 2.33MB/s]\n",
      "  8%|▊         | 11.0M/140M [00:05<00:51, 2.60MB/s]\n",
      "  9%|▊         | 12.0M/140M [00:06<00:49, 2.71MB/s]\n",
      "  9%|▉         | 13.0M/140M [00:06<00:52, 2.53MB/s]\n",
      " 10%|█         | 14.0M/140M [00:07<01:04, 2.06MB/s]\n",
      " 11%|█         | 15.0M/140M [00:07<00:59, 2.20MB/s]\n",
      " 11%|█▏        | 16.0M/140M [00:08<01:01, 2.10MB/s]\n",
      " 12%|█▏        | 17.0M/140M [00:08<01:00, 2.14MB/s]\n",
      " 13%|█▎        | 18.0M/140M [00:09<00:59, 2.14MB/s]\n",
      " 14%|█▎        | 19.0M/140M [00:09<01:12, 1.76MB/s]\n",
      " 14%|█▍        | 20.0M/140M [00:10<01:05, 1.91MB/s]\n",
      " 15%|█▌        | 21.0M/140M [00:11<01:09, 1.79MB/s]\n",
      " 16%|█▌        | 22.0M/140M [00:12<01:33, 1.32MB/s]\n",
      " 16%|█▋        | 23.0M/140M [00:15<02:53, 708kB/s] \n",
      " 17%|█▋        | 24.0M/140M [00:16<02:29, 811kB/s]\n",
      " 18%|█▊        | 25.0M/140M [00:17<02:11, 914kB/s]\n",
      " 19%|█▊        | 26.0M/140M [00:18<02:13, 894kB/s]\n",
      " 19%|█▉        | 27.0M/140M [00:19<02:05, 942kB/s]\n",
      " 20%|██        | 28.0M/140M [00:20<02:06, 928kB/s]\n",
      " 21%|██        | 29.0M/140M [00:21<01:45, 1.10MB/s]\n",
      " 21%|██▏       | 30.0M/140M [00:21<01:44, 1.10MB/s]\n",
      " 22%|██▏       | 31.0M/140M [00:23<01:50, 1.03MB/s]\n",
      " 23%|██▎       | 32.0M/140M [00:24<01:44, 1.08MB/s]\n",
      " 24%|██▎       | 33.0M/140M [00:24<01:26, 1.29MB/s]\n",
      " 24%|██▍       | 34.0M/140M [00:25<01:17, 1.42MB/s]\n",
      " 25%|██▌       | 35.0M/140M [00:25<01:07, 1.63MB/s]\n",
      " 26%|██▌       | 36.0M/140M [00:25<00:56, 1.93MB/s]\n",
      " 26%|██▋       | 37.0M/140M [00:26<01:12, 1.48MB/s]\n",
      " 27%|██▋       | 38.0M/140M [00:27<01:10, 1.52MB/s]\n",
      " 28%|██▊       | 39.0M/140M [00:27<01:03, 1.67MB/s]\n",
      " 29%|██▊       | 40.0M/140M [00:28<00:53, 1.96MB/s]\n",
      " 29%|██▉       | 41.0M/140M [00:29<00:59, 1.73MB/s]\n",
      " 30%|███       | 42.0M/140M [00:29<00:59, 1.72MB/s]\n",
      " 31%|███       | 43.0M/140M [00:29<00:48, 2.11MB/s]\n",
      " 31%|███▏      | 44.0M/140M [00:30<00:43, 2.30MB/s]\n",
      " 32%|███▏      | 45.0M/140M [00:30<00:42, 2.34MB/s]\n",
      " 33%|███▎      | 46.0M/140M [00:32<01:20, 1.22MB/s]\n",
      " 34%|███▎      | 47.0M/140M [00:33<01:10, 1.38MB/s]\n",
      " 34%|███▍      | 48.0M/140M [00:33<01:10, 1.36MB/s]\n",
      " 35%|███▌      | 49.0M/140M [00:34<01:16, 1.25MB/s]\n",
      " 36%|███▌      | 50.0M/140M [00:36<01:29, 1.06MB/s]\n",
      " 36%|███▋      | 51.0M/140M [00:37<01:31, 1.01MB/s]\n",
      " 37%|███▋      | 52.0M/140M [00:37<01:11, 1.29MB/s]\n",
      " 38%|███▊      | 53.0M/140M [00:37<00:57, 1.58MB/s]\n",
      " 39%|███▊      | 54.0M/140M [00:38<00:46, 1.95MB/s]\n",
      " 39%|███▉      | 55.0M/140M [00:38<00:41, 2.16MB/s]\n",
      " 40%|████      | 56.0M/140M [00:38<00:37, 2.35MB/s]\n",
      " 41%|████      | 57.0M/140M [00:39<00:32, 2.63MB/s]\n",
      " 41%|████▏     | 58.0M/140M [00:39<00:30, 2.84MB/s]\n",
      " 42%|████▏     | 59.0M/140M [00:39<00:27, 3.04MB/s]\n",
      " 43%|████▎     | 60.0M/140M [00:40<00:30, 2.73MB/s]\n",
      " 44%|████▎     | 61.0M/140M [00:40<00:27, 3.01MB/s]\n",
      " 44%|████▍     | 62.0M/140M [00:40<00:26, 3.08MB/s]\n",
      " 45%|████▌     | 63.0M/140M [00:41<00:28, 2.84MB/s]\n",
      " 46%|████▌     | 64.0M/140M [00:41<00:29, 2.70MB/s]\n",
      " 46%|████▋     | 65.0M/140M [00:42<00:28, 2.73MB/s]\n",
      " 47%|████▋     | 66.0M/140M [00:42<00:26, 2.94MB/s]\n",
      " 48%|████▊     | 67.0M/140M [00:42<00:24, 3.12MB/s]\n",
      " 49%|████▊     | 68.0M/140M [00:43<00:25, 3.01MB/s]\n",
      " 49%|████▉     | 69.0M/140M [00:43<00:23, 3.23MB/s]\n",
      " 50%|█████     | 70.0M/140M [00:44<00:35, 2.06MB/s]\n",
      " 51%|█████     | 71.0M/140M [00:44<00:39, 1.82MB/s]\n",
      " 52%|█████▏    | 72.0M/140M [00:45<00:43, 1.62MB/s]\n",
      " 52%|█████▏    | 73.0M/140M [00:46<00:43, 1.60MB/s]\n",
      " 53%|█████▎    | 74.0M/140M [00:47<00:49, 1.40MB/s]\n",
      " 54%|█████▎    | 75.0M/140M [00:47<00:41, 1.65MB/s]\n",
      " 54%|█████▍    | 76.0M/140M [00:48<00:35, 1.87MB/s]\n",
      " 55%|█████▌    | 77.0M/140M [00:48<00:32, 2.05MB/s]\n",
      " 56%|█████▌    | 78.0M/140M [00:49<00:32, 1.97MB/s]\n",
      " 57%|█████▋    | 79.0M/140M [00:49<00:35, 1.82MB/s]\n",
      " 57%|█████▋    | 80.0M/140M [00:50<00:32, 1.96MB/s]\n",
      " 58%|█████▊    | 81.0M/140M [00:50<00:29, 2.06MB/s]\n",
      " 59%|█████▊    | 82.0M/140M [00:51<00:30, 1.96MB/s]\n",
      " 59%|█████▉    | 83.0M/140M [00:51<00:30, 1.97MB/s]\n",
      " 60%|██████    | 84.0M/140M [00:52<00:31, 1.85MB/s]\n",
      " 61%|██████    | 85.0M/140M [00:52<00:28, 2.01MB/s]\n",
      " 62%|██████▏   | 86.0M/140M [00:53<00:28, 1.97MB/s]\n",
      " 62%|██████▏   | 87.0M/140M [00:54<00:41, 1.34MB/s]\n",
      " 63%|██████▎   | 88.0M/140M [00:56<00:46, 1.16MB/s]\n",
      " 64%|██████▎   | 89.0M/140M [00:56<00:39, 1.36MB/s]\n",
      " 64%|██████▍   | 90.0M/140M [00:56<00:33, 1.54MB/s]\n",
      " 65%|██████▌   | 91.0M/140M [00:57<00:35, 1.44MB/s]\n",
      " 66%|██████▌   | 92.0M/140M [00:58<00:30, 1.66MB/s]\n",
      " 67%|██████▋   | 93.0M/140M [00:58<00:24, 2.02MB/s]\n",
      " 67%|██████▋   | 94.0M/140M [00:58<00:22, 2.10MB/s]\n",
      " 68%|██████▊   | 95.0M/140M [00:59<00:20, 2.32MB/s]\n",
      " 69%|██████▊   | 96.0M/140M [00:59<00:20, 2.26MB/s]\n",
      " 69%|██████▉   | 97.0M/140M [01:01<00:30, 1.48MB/s]\n",
      " 70%|███████   | 98.0M/140M [01:02<00:32, 1.33MB/s]\n",
      " 71%|███████   | 99.0M/140M [01:03<00:36, 1.18MB/s]\n",
      " 72%|███████▏  | 100M/140M [01:04<00:42, 971kB/s]  \n",
      " 72%|███████▏  | 101M/140M [01:05<00:41, 982kB/s]\n",
      " 73%|███████▎  | 102M/140M [01:06<00:38, 1.03MB/s]\n",
      " 74%|███████▎  | 103M/140M [01:07<00:30, 1.25MB/s]\n",
      " 74%|███████▍  | 104M/140M [01:08<00:32, 1.17MB/s]\n",
      " 75%|███████▌  | 105M/140M [01:09<00:35, 1.03MB/s]\n",
      " 76%|███████▌  | 106M/140M [01:10<00:35, 1.01MB/s]\n",
      " 77%|███████▋  | 107M/140M [01:11<00:34, 991kB/s] \n",
      " 77%|███████▋  | 108M/140M [01:12<00:28, 1.18MB/s]\n",
      " 78%|███████▊  | 109M/140M [01:12<00:22, 1.41MB/s]\n",
      " 79%|███████▊  | 110M/140M [01:13<00:22, 1.36MB/s]\n",
      " 79%|███████▉  | 111M/140M [01:13<00:20, 1.45MB/s]\n",
      " 80%|████████  | 112M/140M [01:14<00:18, 1.59MB/s]\n",
      " 81%|████████  | 113M/140M [01:14<00:16, 1.70MB/s]\n",
      " 82%|████████▏ | 114M/140M [01:15<00:13, 2.03MB/s]\n",
      " 82%|████████▏ | 115M/140M [01:15<00:10, 2.42MB/s]\n",
      " 83%|████████▎ | 116M/140M [01:15<00:09, 2.71MB/s]\n",
      " 84%|████████▎ | 117M/140M [01:16<00:08, 2.93MB/s]\n",
      " 84%|████████▍ | 118M/140M [01:16<00:07, 3.18MB/s]\n",
      " 85%|████████▌ | 119M/140M [01:16<00:07, 3.02MB/s]\n",
      " 86%|████████▌ | 120M/140M [01:16<00:06, 3.09MB/s]\n",
      " 87%|████████▋ | 121M/140M [01:17<00:08, 2.22MB/s]\n",
      " 87%|████████▋ | 122M/140M [01:18<00:09, 1.89MB/s]\n",
      " 88%|████████▊ | 123M/140M [01:19<00:11, 1.59MB/s]\n",
      " 89%|████████▊ | 124M/140M [01:20<00:12, 1.28MB/s]\n",
      " 89%|████████▉ | 125M/140M [01:21<00:14, 1.10MB/s]\n",
      " 90%|█████████ | 126M/140M [01:22<00:13, 1.09MB/s]\n",
      " 91%|█████████ | 127M/140M [01:23<00:11, 1.17MB/s]\n",
      " 92%|█████████▏| 128M/140M [01:24<00:10, 1.17MB/s]\n",
      " 92%|█████████▏| 129M/140M [01:25<00:09, 1.14MB/s]\n",
      " 93%|█████████▎| 130M/140M [01:25<00:07, 1.40MB/s]\n",
      " 94%|█████████▎| 131M/140M [01:26<00:06, 1.48MB/s]\n",
      " 94%|█████████▍| 132M/140M [01:27<00:06, 1.24MB/s]\n",
      " 95%|█████████▌| 133M/140M [01:28<00:05, 1.19MB/s]\n",
      " 96%|█████████▌| 134M/140M [01:29<00:05, 1.04MB/s]\n",
      " 97%|█████████▋| 135M/140M [01:31<00:05, 985kB/s] \n",
      " 97%|█████████▋| 136M/140M [01:31<00:03, 1.09MB/s]\n",
      " 98%|█████████▊| 137M/140M [01:32<00:02, 1.31MB/s]\n",
      " 99%|█████████▊| 138M/140M [01:32<00:01, 1.51MB/s]\n",
      " 99%|█████████▉| 139M/140M [01:33<00:00, 1.45MB/s]\n",
      "100%|██████████| 140M/140M [01:34<00:00, 1.33MB/s]\n",
      "100%|██████████| 140M/140M [01:34<00:00, 1.56MB/s]\n",
      "\n",
      "  0%|          | 0.00/1.04M [00:00<?, ?B/s]\n",
      " 96%|█████████▌| 1.00M/1.04M [00:00<00:00, 1.11MB/s]\n",
      "100%|██████████| 1.04M/1.04M [00:00<00:00, 1.16MB/s]\n"
     ]
    },
    {
     "name": "stdout",
     "output_type": "stream",
     "text": [
      "\n",
      "License(s): other\n",
      "Downloading flight-delay-and-cancellation-dataset-2019-2023.zip to ../data/raw/flight_data\n",
      "\n",
      "Dataset URL: https://www.kaggle.com/datasets/marslandis/largest-50-us-cities-weather-data-2020-to-2023\n",
      "License(s): MIT\n",
      "Downloading largest-50-us-cities-weather-data-2020-to-2023.zip to ../data/raw/weather_data\n",
      "\n"
     ]
    }
   ],
   "source": [
    "!python ./ingestion/ingest.py"
   ]
  },
  {
   "cell_type": "markdown",
   "metadata": {},
   "source": [
    "# Viewers"
   ]
  },
  {
   "cell_type": "markdown",
   "metadata": {},
   "source": [
    "## Flight Viewer"
   ]
  },
  {
   "cell_type": "code",
   "execution_count": 8,
   "metadata": {},
   "outputs": [
    {
     "name": "stdout",
     "output_type": "stream",
     "text": [
      "      FL_DATE  ... DELAY_DUE_LATE_AIRCRAFT\n",
      "0  2019-01-09  ...                     NaN\n",
      "1  2022-11-19  ...                     NaN\n",
      "2  2022-07-22  ...                     NaN\n",
      "3  2023-03-06  ...                     0.0\n",
      "4  2020-02-23  ...                     NaN\n",
      "\n",
      "[5 rows x 32 columns]\n",
      "<class 'pandas.core.frame.DataFrame'>\n",
      "RangeIndex: 3000000 entries, 0 to 2999999\n",
      "Data columns (total 32 columns):\n",
      " #   Column                   Dtype  \n",
      "---  ------                   -----  \n",
      " 0   FL_DATE                  object \n",
      " 1   AIRLINE                  object \n",
      " 2   AIRLINE_DOT              object \n",
      " 3   AIRLINE_CODE             object \n",
      " 4   DOT_CODE                 int64  \n",
      " 5   FL_NUMBER                int64  \n",
      " 6   ORIGIN                   object \n",
      " 7   ORIGIN_CITY              object \n",
      " 8   DEST                     object \n",
      " 9   DEST_CITY                object \n",
      " 10  CRS_DEP_TIME             int64  \n",
      " 11  DEP_TIME                 float64\n",
      " 12  DEP_DELAY                float64\n",
      " 13  TAXI_OUT                 float64\n",
      " 14  WHEELS_OFF               float64\n",
      " 15  WHEELS_ON                float64\n",
      " 16  TAXI_IN                  float64\n",
      " 17  CRS_ARR_TIME             int64  \n",
      " 18  ARR_TIME                 float64\n",
      " 19  ARR_DELAY                float64\n",
      " 20  CANCELLED                float64\n",
      " 21  CANCELLATION_CODE        object \n",
      " 22  DIVERTED                 float64\n",
      " 23  CRS_ELAPSED_TIME         float64\n",
      " 24  ELAPSED_TIME             float64\n",
      " 25  AIR_TIME                 float64\n",
      " 26  DISTANCE                 float64\n",
      " 27  DELAY_DUE_CARRIER        float64\n",
      " 28  DELAY_DUE_WEATHER        float64\n",
      " 29  DELAY_DUE_NAS            float64\n",
      " 30  DELAY_DUE_SECURITY       float64\n",
      " 31  DELAY_DUE_LATE_AIRCRAFT  float64\n",
      "dtypes: float64(19), int64(4), object(9)\n",
      "memory usage: 732.4+ MB\n",
      "None\n"
     ]
    }
   ],
   "source": [
    "!python ./viewers/data_viewer_flight.py"
   ]
  },
  {
   "cell_type": "markdown",
   "metadata": {},
   "source": [
    "## Weather Viewer"
   ]
  },
  {
   "cell_type": "code",
   "execution_count": 9,
   "metadata": {},
   "outputs": [
    {
     "name": "stdout",
     "output_type": "stream",
     "text": [
      "            city        date  tavg  tmin  tmax  ...   wdir  wspd  wpgt    pres  tsun\n",
      "0  New York City  2020-01-01   3.6   1.7   5.0  ...  264.0  17.3   NaN  1008.2   NaN\n",
      "1  New York City  2020-01-02   4.7   0.6   8.9  ...  218.0  12.4   NaN  1013.9   NaN\n",
      "2  New York City  2020-01-03   7.6   6.7   8.3  ...  257.0   8.4   NaN  1010.2   NaN\n",
      "3  New York City  2020-01-04   8.2   6.7   9.4  ...  325.0   5.7   NaN  1003.7   NaN\n",
      "4  New York City  2020-01-05   4.6   2.8   7.2  ...  300.0   8.2   NaN  1010.1   NaN\n",
      "\n",
      "[5 rows x 12 columns]\n",
      "<class 'pandas.core.frame.DataFrame'>\n",
      "RangeIndex: 73050 entries, 0 to 73049\n",
      "Data columns (total 12 columns):\n",
      " #   Column  Non-Null Count  Dtype  \n",
      "---  ------  --------------  -----  \n",
      " 0   city    73050 non-null  object \n",
      " 1   date    73050 non-null  object \n",
      " 2   tavg    73044 non-null  float64\n",
      " 3   tmin    73049 non-null  float64\n",
      " 4   tmax    73049 non-null  float64\n",
      " 5   prcp    72895 non-null  float64\n",
      " 6   snow    62652 non-null  float64\n",
      " 7   wdir    73017 non-null  float64\n",
      " 8   wspd    73044 non-null  float64\n",
      " 9   wpgt    1104 non-null   float64\n",
      " 10  pres    73012 non-null  float64\n",
      " 11  tsun    1451 non-null   float64\n",
      "dtypes: float64(10), object(2)\n",
      "memory usage: 6.7+ MB\n",
      "None\n"
     ]
    }
   ],
   "source": [
    "!python ./viewers/data_viewer_weather.py"
   ]
  }
 ],
 "metadata": {
  "kernelspec": {
   "display_name": "Python 3",
   "language": "python",
   "name": "python3"
  },
  "language_info": {
   "codemirror_mode": {
    "name": "ipython",
    "version": 3
   },
   "file_extension": ".py",
   "mimetype": "text/x-python",
   "name": "python",
   "nbconvert_exporter": "python",
   "pygments_lexer": "ipython3",
   "version": "3.12.6"
  }
 },
 "nbformat": 4,
 "nbformat_minor": 2
}
